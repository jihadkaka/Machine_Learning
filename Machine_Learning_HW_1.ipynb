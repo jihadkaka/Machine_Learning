{
  "nbformat": 4,
  "nbformat_minor": 0,
  "metadata": {
    "colab": {
      "provenance": [],
      "include_colab_link": true
    },
    "kernelspec": {
      "name": "python3",
      "display_name": "Python 3"
    },
    "language_info": {
      "name": "python"
    }
  },
  "cells": [
    {
      "cell_type": "markdown",
      "metadata": {
        "id": "view-in-github",
        "colab_type": "text"
      },
      "source": [
        "<a href=\"https://colab.research.google.com/github/jihadkaka/Machine_Learning/blob/main/Machine_Learning_HW_1.ipynb\" target=\"_parent\"><img src=\"https://colab.research.google.com/assets/colab-badge.svg\" alt=\"Open In Colab\"/></a>"
      ]
    },
    {
      "cell_type": "code",
      "execution_count": null,
      "metadata": {
        "colab": {
          "base_uri": "https://localhost:8080/"
        },
        "collapsed": true,
        "id": "JLglGhBJEjyg",
        "outputId": "9629f322-4e36-4d1f-8348-8a26075a38e5"
      },
      "outputs": [
        {
          "output_type": "stream",
          "name": "stdout",
          "text": [
            "Jihad\n",
            "<class 'str'>\n",
            "result 55.8\n",
            "data type  <class 'float'>\n",
            "datatype <class 'int'>\n"
          ]
        }
      ],
      "source": [
        "#from ch:1 two pronlems\n",
        "#problem 1 variable and literal\n",
        "\n",
        "x = 30yu\n",
        "y = 25.8\n",
        "\n",
        "a=\"Jihad\"\n",
        "print(a)\n",
        "print(type((a)))\n",
        "\n",
        "\n",
        "z = x+y\n",
        "\n",
        "print( 'result', z)\n",
        "print( 'data type ', type(z))\n",
        "print('datatype', type(x))\n",
        "\n",
        "\n"
      ]
    },
    {
      "cell_type": "code",
      "source": [
        "#problem 2\n",
        "\n",
        "a = int(input('enter the 1st number:' ))\n",
        "b = int (input('enter the 2nd number:'))\n",
        "\n",
        "print('sum', a+b)\n",
        "print('sub', a-b)\n",
        "print('mul',a*b)\n",
        "print('div',a/b)"
      ],
      "metadata": {
        "colab": {
          "base_uri": "https://localhost:8080/"
        },
        "id": "JywNgMXZJRBc",
        "outputId": "eef43154-78f1-450f-a522-7425700d3db3"
      },
      "execution_count": null,
      "outputs": [
        {
          "output_type": "stream",
          "name": "stdout",
          "text": [
            "enter the 1st number:1\n",
            "enter the 2nd number:2\n",
            "sum 3\n",
            "sub -1\n",
            "mul 2\n",
            "div 0.5\n"
          ]
        }
      ]
    },
    {
      "cell_type": "code",
      "source": [
        "#from ch-2 two problems\n",
        "#if else conditions\n",
        "\n",
        "char = input(\"Enter a  letter: \")\n",
        "char_lower = char.lower()\n",
        "\n",
        "if char_lower == 'a':\n",
        "    print(f\"'{char}' is a vowel.\")\n",
        "elif char_lower == 'e':\n",
        "    print(f\"'{char}' is a vowel.\")\n",
        "elif char_lower == 'i':\n",
        "    print(f\"'{char}' is a vowel.\")\n",
        "elif char_lower == 'o':\n",
        "    print(f\"'{char}' is a vowel.\")\n",
        "elif char_lower == 'u':\n",
        "    print(f\"'{char}' is a vowel.\")\n",
        "else:\n",
        "    print(f\"'{char}' is a consonant.\")\n",
        "\n",
        "\n"
      ],
      "metadata": {
        "id": "MpauygwwKpc3"
      },
      "execution_count": null,
      "outputs": []
    },
    {
      "cell_type": "code",
      "source": [
        "#prblm 2\n",
        "number_str = input(\"Enter a  number: \")\n",
        "number = int(number_str)\n",
        "\n",
        "if number > 0:\n",
        "    print(\"The number is positive.\")\n",
        "elif number < 0:\n",
        "    print(\"The number is negative.\")\n",
        "else:\n",
        "    print(\"The number is zero.\")\n"
      ],
      "metadata": {
        "id": "Iz0Tm834JY70"
      },
      "execution_count": null,
      "outputs": []
    },
    {
      "cell_type": "code",
      "source": [
        "#from ch-3 two problems\n",
        "\n",
        "#prblm 1\n",
        "secret_number = 7\n",
        "guess = 0\n",
        "print(\"Guess the secret number between 1 and 10\")\n",
        "\n",
        "while guess != secret_number:\n",
        "    guess_str = input(\"Enter your guess: \")\n",
        "    guess = int(guess_str)\n",
        "    if guess != secret_number:\n",
        "        print(\"Wrong guess, try again!\")\n",
        "\n",
        "print(\"Congratulations! You guessed the secret number!\")\n",
        "\n",
        "\n"
      ],
      "metadata": {
        "colab": {
          "base_uri": "https://localhost:8080/"
        },
        "collapsed": true,
        "id": "C0ZSMI8buFQk",
        "outputId": "3657c15e-a930-42dd-93b6-a8549178743e"
      },
      "execution_count": null,
      "outputs": [
        {
          "output_type": "stream",
          "name": "stdout",
          "text": [
            "Guess the secret number between 1 and 10\n",
            "Enter your guess: 7\n",
            "Congratulations! You guessed the secret number!\n",
            "Start countdown:\n",
            "5\n",
            "4\n",
            "3\n",
            "2\n",
            "1\n",
            "Countdown complete\n"
          ]
        }
      ]
    },
    {
      "cell_type": "code",
      "source": [
        "#prblm2\n",
        "count = 5\n",
        "\n",
        "print(\"Start countdown:\")\n",
        "while count > 0:\n",
        "    print(count)\n",
        "    count = count - 1\n",
        "    if count == 0:\n",
        "        print(\"Countdown complete\")\n"
      ],
      "metadata": {
        "id": "0VS1nXAwJdrE"
      },
      "execution_count": null,
      "outputs": []
    },
    {
      "cell_type": "code",
      "source": [
        "#ch4 prblm no 1\n",
        "\n",
        "\n",
        "\n",
        "fruits = [\"apple\", \"banana\",\"cherry\",\"mango\"]\n",
        "print(f\"fruits: {fruits}\")\n",
        "\n",
        "\n",
        "fruits.append(\"cherry\")\n",
        "print(f\"Fruits after append: {fruits}\")\n",
        "\n",
        "fruits.remove(\"banana\")\n",
        "print(f\"Fruits after remove: {fruits}\")\n",
        "fruits.insert(1, \"orange\")\n",
        "print(f\"Fruits after insert: {fruits}\")\n",
        "\n",
        "\n",
        "\n",
        "\n",
        "\n"
      ],
      "metadata": {
        "colab": {
          "base_uri": "https://localhost:8080/"
        },
        "id": "KmVQq5KLwjZs",
        "outputId": "b4c0cd68-48c2-4136-a28c-b8e02b88342d"
      },
      "execution_count": null,
      "outputs": [
        {
          "output_type": "stream",
          "name": "stdout",
          "text": [
            "Original fruits: ['apple', 'banana', 'cherry', 'mango']\n",
            "Fruits after append: ['apple', 'banana', 'cherry', 'mango', 'cherry']\n",
            "Fruits after remove: ['apple', 'cherry', 'mango', 'cherry']\n",
            "Fruits after insert: ['apple', 'orange', 'cherry', 'mango', 'cherry']\n"
          ]
        }
      ]
    },
    {
      "cell_type": "code",
      "source": [
        "#prblm 2 in this different types of dt empty list are checked\n",
        "\n",
        "\n",
        "ages = [22, 35, 18, 40]\n",
        "print(f\"Ages: {ages}\")\n",
        "\n",
        "mixed_list = [\"text\", 123, 3.14, True]\n",
        "print(f\"Mixed list: {mixed_list}\")\n",
        "\n",
        "\n",
        "empty_list = []\n",
        "print(f\"Empty list: {empty_list}\")"
      ],
      "metadata": {
        "id": "D2c7ZaZtJinl"
      },
      "execution_count": null,
      "outputs": []
    },
    {
      "cell_type": "code",
      "source": [
        "# 2 problem from ch-5\n",
        "# pblm 1 creating  dictionary\n",
        "person = {\n",
        "    \"name\": \"Alice\",\n",
        "    \"age\": 30,\n",
        "    \"city\": \"New York\"\n",
        "}\n",
        "print(\"about person\")\n",
        "print(f\"Person: {person}\")\n",
        "print(f\"Type of person: {type(person)}\")\n",
        "\n"
      ],
      "metadata": {
        "colab": {
          "base_uri": "https://localhost:8080/"
        },
        "id": "ns5YEI3Hy3nU",
        "outputId": "b3ff2b13-cd25-4a52-edee-0c78b25b2850"
      },
      "execution_count": null,
      "outputs": [
        {
          "output_type": "stream",
          "name": "stdout",
          "text": [
            "about person\n",
            "Person: {'name': 'Alice', 'age': 30, 'city': 'New York'}\n",
            "Type of person: <class 'dict'>\n",
            "Student: {'name': 'Alvi', 'grade': 'A', 'age': 23, 'is_enrolled': True, 'courses': ['Math', 'Science', 'History']}\n",
            "\n",
            "\n"
          ]
        }
      ]
    },
    {
      "cell_type": "code",
      "source": [
        "#problm 2\n",
        "student = {\n",
        "    \"name\": \"Alvi\",\n",
        "    \"grade\": \"A\",\n",
        "    \"age\": 23,\n",
        "    \"is_enrolled\": True,\n",
        "    \"courses\": [\"Math\", \"Science\", \"History\"]\n",
        "}\n",
        "\n",
        "print(f\"Student: {student}\")\n",
        "print(\"\\n\")"
      ],
      "metadata": {
        "id": "ndlrC5CsJlwt"
      },
      "execution_count": null,
      "outputs": []
    },
    {
      "cell_type": "code",
      "source": [
        "#function example armstrong number\n",
        "def is_armstrong(number):\n",
        "\n",
        "    digits = str(number)\n",
        "    num_digits = len(digits)\n",
        "\n",
        "    total = sum(int(digit) ** num_digits for digit in digits)\n",
        "    # Check if the total equals the original number\n",
        "    return total == number\n",
        "\n",
        "\n",
        "print(is_armstrong(153))"
      ],
      "metadata": {
        "colab": {
          "base_uri": "https://localhost:8080/"
        },
        "id": "-a4cAKm1Tx_B",
        "outputId": "c4c3df53-6103-4a52-c7c2-48ee91c33706"
      },
      "execution_count": 1,
      "outputs": [
        {
          "output_type": "stream",
          "name": "stdout",
          "text": [
            "True\n"
          ]
        }
      ]
    },
    {
      "cell_type": "code",
      "source": [
        "#from lec 7 importing modules\n",
        "from datetime import datetime\n",
        "\n",
        "def current_datetime():\n",
        "\n",
        "    now = datetime.now()\n",
        "    return now.strftime(\"%Y-%m-%d %H:%M:%S\")\n",
        "\n",
        "print(current_datetime())\n"
      ],
      "metadata": {
        "colab": {
          "base_uri": "https://localhost:8080/"
        },
        "id": "c9VWS9brT3qg",
        "outputId": "478b46f0-21c4-47db-d523-70053b68b4e6"
      },
      "execution_count": 2,
      "outputs": [
        {
          "output_type": "stream",
          "name": "stdout",
          "text": [
            "2025-06-30 05:29:13\n"
          ]
        }
      ]
    },
    {
      "cell_type": "code",
      "source": [
        "#from lec 8 recursive method by divde and conquer method\n",
        "\n",
        "def find_max(arr):\n",
        "\n",
        "\n",
        "    if len(arr) == 1:\n",
        "        return arr[0]\n",
        "    else:\n",
        "        # Divide the list into two halves\n",
        "        mid = len(arr) // 2\n",
        "        left_max = find_max(arr[:mid])\n",
        "        right_max = find_max(arr[mid:])\n",
        "        # Combine: return the maximum of the two\n",
        "        return max(left_max, right_max)\n",
        "\n",
        "lst = [8, 3, 10, 7, 15, 2, 19, 1, 39,68,91,23,30]\n",
        "print(find_max(lst))"
      ],
      "metadata": {
        "colab": {
          "base_uri": "https://localhost:8080/"
        },
        "id": "Tu1Uh61ZT78J",
        "outputId": "6db3df1a-5760-4f4a-a9a6-c11177f15502"
      },
      "execution_count": 3,
      "outputs": [
        {
          "output_type": "stream",
          "name": "stdout",
          "text": [
            "91\n"
          ]
        }
      ]
    },
    {
      "cell_type": "code",
      "source": [
        "#lec9 from given slide hw\n",
        "#  Create a list of 10 integers\n",
        "numbers = [5, 12, 7, 19, 3, 22, 1, 8, 14, 10]\n",
        "print(\"Original list:\", numbers)\n",
        "\n",
        "#  Append an element to the list\n",
        "numbers.append(25)\n",
        "print(\"After appending 25:\", numbers)\n",
        "\n",
        "#  Insert an element at a specific position\n",
        "numbers.insert(3, 99)\n",
        "print(\"After inserting 99 at index 3:\", numbers)\n",
        "\n",
        "#  Remove an element from the list (e.g., remove the number 22)\n",
        "numbers.remove(22)\n",
        "print(\"After removing 22:\", numbers)\n",
        "\n",
        "# Pop an element from a specific position (e.g., index 5)\n",
        "popped_element = numbers.pop(5)\n",
        "print(f\"After popping element at index 5 ({popped_element}):\", numbers)\n"
      ],
      "metadata": {
        "colab": {
          "base_uri": "https://localhost:8080/"
        },
        "id": "FhS2wSDIT_Eu",
        "outputId": "526f6e52-9c1b-4e0d-f072-832d313b5193"
      },
      "execution_count": 4,
      "outputs": [
        {
          "output_type": "stream",
          "name": "stdout",
          "text": [
            "Original list: [5, 12, 7, 19, 3, 22, 1, 8, 14, 10]\n",
            "After appending 25: [5, 12, 7, 19, 3, 22, 1, 8, 14, 10, 25]\n",
            "After inserting 99 at index 3: [5, 12, 7, 99, 19, 3, 22, 1, 8, 14, 10, 25]\n",
            "After removing 22: [5, 12, 7, 99, 19, 3, 1, 8, 14, 10, 25]\n",
            "After popping element at index 5 (3): [5, 12, 7, 99, 19, 1, 8, 14, 10, 25]\n"
          ]
        }
      ]
    },
    {
      "cell_type": "code",
      "source": [
        "#lec 10\n",
        "class Student:\n",
        "\n",
        "    def __init__(self, name, marks):\n",
        "        self.name = name\n",
        "        self.marks = marks\n",
        "\n",
        "\n",
        "    def display(self):\n",
        "        print(f\"Name: {self.name}, Marks: {self.marks}\")\n",
        "\n",
        "    def has_passed(self):\n",
        "        if self.marks >= 40:\n",
        "            print(f\"{self.name} has passed!\")\n",
        "        else:\n",
        "            print(f\"{self.name} has failed.\")\n",
        "\n",
        "\n",
        "student1 = Student(\"JIhad\", 75)\n",
        "student2 = Student(\"pagli \", 70)\n",
        "\n",
        "\n",
        "student1.display()\n",
        "student1.has_passed()\n",
        "\n",
        "student2.display()\n",
        "student2.has_passed()"
      ],
      "metadata": {
        "colab": {
          "base_uri": "https://localhost:8080/"
        },
        "id": "ObOq6YcJUCdF",
        "outputId": "470d6285-b4f8-4d2c-8ec4-45d2235c4598"
      },
      "execution_count": 6,
      "outputs": [
        {
          "output_type": "stream",
          "name": "stdout",
          "text": [
            "Name: JIhad, Marks: 75\n",
            "JIhad has passed!\n",
            "Name: pagli , Marks: 70\n",
            "pagli  has passed!\n"
          ]
        }
      ]
    }
  ]
}