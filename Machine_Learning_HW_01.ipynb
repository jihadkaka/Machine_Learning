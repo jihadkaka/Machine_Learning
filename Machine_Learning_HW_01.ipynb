{
  "nbformat": 4,
  "nbformat_minor": 0,
  "metadata": {
    "colab": {
      "provenance": [],
      "include_colab_link": true
    },
    "kernelspec": {
      "name": "python3",
      "display_name": "Python 3"
    },
    "language_info": {
      "name": "python"
    }
  },
  "cells": [
    {
      "cell_type": "markdown",
      "metadata": {
        "id": "view-in-github",
        "colab_type": "text"
      },
      "source": [
        "<a href=\"https://colab.research.google.com/github/jihadkaka/Machine_Learning/blob/main/Machine_Learning_HW_01.ipynb\" target=\"_parent\"><img src=\"https://colab.research.google.com/assets/colab-badge.svg\" alt=\"Open In Colab\"/></a>"
      ]
    },
    {
      "cell_type": "code",
      "execution_count": 4,
      "metadata": {
        "colab": {
          "base_uri": "https://localhost:8080/"
        },
        "collapsed": true,
        "id": "JLglGhBJEjyg",
        "outputId": "9629f322-4e36-4d1f-8348-8a26075a38e5"
      },
      "outputs": [
        {
          "output_type": "stream",
          "name": "stdout",
          "text": [
            "Jihad\n",
            "<class 'str'>\n",
            "result 55.8\n",
            "data type  <class 'float'>\n",
            "datatype <class 'int'>\n"
          ]
        }
      ],
      "source": [
        "#from ch:1 two pronlems\n",
        "#problem 1 variable and literal\n",
        "\n",
        "x = 30\n",
        "y = 25.8\n",
        "\n",
        "a=\"Jihad\"\n",
        "print(a)\n",
        "print(type((a)))\n",
        "\n",
        "\n",
        "z = x+y\n",
        "\n",
        "print( 'result', z)\n",
        "print( 'data type ', type(z))\n",
        "print('datatype', type(x))\n",
        "\n",
        "\n"
      ]
    },
    {
      "cell_type": "code",
      "source": [
        "#problem 2\n",
        "\n",
        "a = int(input('enter the 1st number:' ))\n",
        "b = int (input('enter the 2nd number:'))\n",
        "\n",
        "print('sum', a+b)\n",
        "print('sub', a-b)\n",
        "print('mul',a*b)\n",
        "print('div',a/b)"
      ],
      "metadata": {
        "colab": {
          "base_uri": "https://localhost:8080/"
        },
        "id": "JywNgMXZJRBc",
        "outputId": "eef43154-78f1-450f-a522-7425700d3db3"
      },
      "execution_count": 3,
      "outputs": [
        {
          "output_type": "stream",
          "name": "stdout",
          "text": [
            "enter the 1st number:1\n",
            "enter the 2nd number:2\n",
            "sum 3\n",
            "sub -1\n",
            "mul 2\n",
            "div 0.5\n"
          ]
        }
      ]
    },
    {
      "cell_type": "code",
      "source": [
        "#from ch-2 two problems\n",
        "#if else conditions\n",
        "\n",
        "char = input(\"Enter a  letter: \")\n",
        "char_lower = char.lower()\n",
        "\n",
        "if char_lower == 'a':\n",
        "    print(f\"'{char}' is a vowel.\")\n",
        "elif char_lower == 'e':\n",
        "    print(f\"'{char}' is a vowel.\")\n",
        "elif char_lower == 'i':\n",
        "    print(f\"'{char}' is a vowel.\")\n",
        "elif char_lower == 'o':\n",
        "    print(f\"'{char}' is a vowel.\")\n",
        "elif char_lower == 'u':\n",
        "    print(f\"'{char}' is a vowel.\")\n",
        "else:\n",
        "    print(f\"'{char}' is a consonant.\")\n",
        "\n",
        "\n"
      ],
      "metadata": {
        "id": "MpauygwwKpc3"
      },
      "execution_count": null,
      "outputs": []
    },
    {
      "cell_type": "code",
      "source": [
        "#prblm 2\n",
        "number_str = input(\"Enter a  number: \")\n",
        "number = int(number_str)\n",
        "\n",
        "if number > 0:\n",
        "    print(\"The number is positive.\")\n",
        "elif number < 0:\n",
        "    print(\"The number is negative.\")\n",
        "else:\n",
        "    print(\"The number is zero.\")\n"
      ],
      "metadata": {
        "id": "Iz0Tm834JY70"
      },
      "execution_count": null,
      "outputs": []
    },
    {
      "cell_type": "code",
      "source": [
        "#from ch-3 two problems\n",
        "\n",
        "#prblm 1\n",
        "secret_number = 7\n",
        "guess = 0\n",
        "print(\"Guess the secret number between 1 and 10\")\n",
        "\n",
        "while guess != secret_number:\n",
        "    guess_str = input(\"Enter your guess: \")\n",
        "    guess = int(guess_str)\n",
        "    if guess != secret_number:\n",
        "        print(\"Wrong guess, try again!\")\n",
        "\n",
        "print(\"Congratulations! You guessed the secret number!\")\n",
        "\n",
        "\n"
      ],
      "metadata": {
        "colab": {
          "base_uri": "https://localhost:8080/"
        },
        "collapsed": true,
        "id": "C0ZSMI8buFQk",
        "outputId": "3657c15e-a930-42dd-93b6-a8549178743e"
      },
      "execution_count": null,
      "outputs": [
        {
          "output_type": "stream",
          "name": "stdout",
          "text": [
            "Guess the secret number between 1 and 10\n",
            "Enter your guess: 7\n",
            "Congratulations! You guessed the secret number!\n",
            "Start countdown:\n",
            "5\n",
            "4\n",
            "3\n",
            "2\n",
            "1\n",
            "Countdown complete\n"
          ]
        }
      ]
    },
    {
      "cell_type": "code",
      "source": [
        "#prblm2\n",
        "count = 5\n",
        "\n",
        "print(\"Start countdown:\")\n",
        "while count > 0:\n",
        "    print(count)\n",
        "    count = count - 1\n",
        "    if count == 0:\n",
        "        print(\"Countdown complete\")\n"
      ],
      "metadata": {
        "id": "0VS1nXAwJdrE"
      },
      "execution_count": null,
      "outputs": []
    },
    {
      "cell_type": "code",
      "source": [
        "#ch4 prblm no 1\n",
        "\n",
        "\n",
        "\n",
        "fruits = [\"apple\", \"banana\",\"cherry\",\"mango\"]\n",
        "print(f\"fruits: {fruits}\")\n",
        "\n",
        "\n",
        "fruits.append(\"cherry\")\n",
        "print(f\"Fruits after append: {fruits}\")\n",
        "\n",
        "fruits.remove(\"banana\")\n",
        "print(f\"Fruits after remove: {fruits}\")\n",
        "fruits.insert(1, \"orange\")\n",
        "print(f\"Fruits after insert: {fruits}\")\n",
        "\n",
        "\n",
        "\n",
        "\n",
        "\n"
      ],
      "metadata": {
        "colab": {
          "base_uri": "https://localhost:8080/"
        },
        "id": "KmVQq5KLwjZs",
        "outputId": "b4c0cd68-48c2-4136-a28c-b8e02b88342d"
      },
      "execution_count": null,
      "outputs": [
        {
          "output_type": "stream",
          "name": "stdout",
          "text": [
            "Original fruits: ['apple', 'banana', 'cherry', 'mango']\n",
            "Fruits after append: ['apple', 'banana', 'cherry', 'mango', 'cherry']\n",
            "Fruits after remove: ['apple', 'cherry', 'mango', 'cherry']\n",
            "Fruits after insert: ['apple', 'orange', 'cherry', 'mango', 'cherry']\n"
          ]
        }
      ]
    },
    {
      "cell_type": "code",
      "source": [
        "#prblm 2 in this different types of dt empty list are checked\n",
        "\n",
        "\n",
        "ages = [22, 35, 18, 40]\n",
        "print(f\"Ages: {ages}\")\n",
        "\n",
        "mixed_list = [\"text\", 123, 3.14, True]\n",
        "print(f\"Mixed list: {mixed_list}\")\n",
        "\n",
        "\n",
        "empty_list = []\n",
        "print(f\"Empty list: {empty_list}\")"
      ],
      "metadata": {
        "id": "D2c7ZaZtJinl"
      },
      "execution_count": null,
      "outputs": []
    },
    {
      "cell_type": "code",
      "source": [
        "# 2 problem from ch-5\n",
        "# pblm 1 creating  dictionary\n",
        "person = {\n",
        "    \"name\": \"Alice\",\n",
        "    \"age\": 30,\n",
        "    \"city\": \"New York\"\n",
        "}\n",
        "print(\"about person\")\n",
        "print(f\"Person: {person}\")\n",
        "print(f\"Type of person: {type(person)}\")\n",
        "\n"
      ],
      "metadata": {
        "colab": {
          "base_uri": "https://localhost:8080/"
        },
        "id": "ns5YEI3Hy3nU",
        "outputId": "b3ff2b13-cd25-4a52-edee-0c78b25b2850"
      },
      "execution_count": null,
      "outputs": [
        {
          "output_type": "stream",
          "name": "stdout",
          "text": [
            "about person\n",
            "Person: {'name': 'Alice', 'age': 30, 'city': 'New York'}\n",
            "Type of person: <class 'dict'>\n",
            "Student: {'name': 'Alvi', 'grade': 'A', 'age': 23, 'is_enrolled': True, 'courses': ['Math', 'Science', 'History']}\n",
            "\n",
            "\n"
          ]
        }
      ]
    },
    {
      "cell_type": "code",
      "source": [
        "#problm 2\n",
        "student = {\n",
        "    \"name\": \"Alvi\",\n",
        "    \"grade\": \"A\",\n",
        "    \"age\": 23,\n",
        "    \"is_enrolled\": True,\n",
        "    \"courses\": [\"Math\", \"Science\", \"History\"]\n",
        "}\n",
        "\n",
        "print(f\"Student: {student}\")\n",
        "print(\"\\n\")"
      ],
      "metadata": {
        "id": "ndlrC5CsJlwt"
      },
      "execution_count": null,
      "outputs": []
    }
  ]
}